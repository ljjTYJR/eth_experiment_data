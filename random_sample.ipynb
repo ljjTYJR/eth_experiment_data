{
 "cells": [
  {
   "cell_type": "code",
   "execution_count": 2,
   "metadata": {},
   "outputs": [
    {
     "name": "stdout",
     "output_type": "stream",
     "text": [
      "/home/shuo/test/eth_test/dataset/random_5_sampling_ascii_pcd/gazebo/Hokuyo_0.pcd\n",
      "/home/shuo/test/eth_test/dataset/random_5_sampling_ascii_pcd/gazebo/Hokuyo_1.pcd\n",
      "/home/shuo/test/eth_test/dataset/random_5_sampling_ascii_pcd/gazebo/Hokuyo_2.pcd\n",
      "/home/shuo/test/eth_test/dataset/random_5_sampling_ascii_pcd/gazebo/Hokuyo_3.pcd\n",
      "/home/shuo/test/eth_test/dataset/random_5_sampling_ascii_pcd/gazebo/Hokuyo_4.pcd\n",
      "/home/shuo/test/eth_test/dataset/random_5_sampling_ascii_pcd/gazebo/Hokuyo_5.pcd\n",
      "/home/shuo/test/eth_test/dataset/random_5_sampling_ascii_pcd/gazebo/Hokuyo_6.pcd\n",
      "/home/shuo/test/eth_test/dataset/random_5_sampling_ascii_pcd/gazebo/Hokuyo_7.pcd\n",
      "/home/shuo/test/eth_test/dataset/random_5_sampling_ascii_pcd/gazebo/Hokuyo_8.pcd\n",
      "/home/shuo/test/eth_test/dataset/random_5_sampling_ascii_pcd/gazebo/Hokuyo_9.pcd\n",
      "/home/shuo/test/eth_test/dataset/random_5_sampling_ascii_pcd/gazebo/Hokuyo_10.pcd\n",
      "/home/shuo/test/eth_test/dataset/random_5_sampling_ascii_pcd/gazebo/Hokuyo_11.pcd\n",
      "/home/shuo/test/eth_test/dataset/random_5_sampling_ascii_pcd/gazebo/Hokuyo_12.pcd\n",
      "/home/shuo/test/eth_test/dataset/random_5_sampling_ascii_pcd/gazebo/Hokuyo_13.pcd\n",
      "/home/shuo/test/eth_test/dataset/random_5_sampling_ascii_pcd/gazebo/Hokuyo_14.pcd\n",
      "/home/shuo/test/eth_test/dataset/random_5_sampling_ascii_pcd/gazebo/Hokuyo_15.pcd\n",
      "/home/shuo/test/eth_test/dataset/random_5_sampling_ascii_pcd/gazebo/Hokuyo_16.pcd\n",
      "/home/shuo/test/eth_test/dataset/random_5_sampling_ascii_pcd/gazebo/Hokuyo_17.pcd\n",
      "/home/shuo/test/eth_test/dataset/random_5_sampling_ascii_pcd/gazebo/Hokuyo_18.pcd\n",
      "/home/shuo/test/eth_test/dataset/random_5_sampling_ascii_pcd/gazebo/Hokuyo_19.pcd\n",
      "/home/shuo/test/eth_test/dataset/random_5_sampling_ascii_pcd/gazebo/Hokuyo_20.pcd\n",
      "/home/shuo/test/eth_test/dataset/random_5_sampling_ascii_pcd/gazebo/Hokuyo_21.pcd\n",
      "/home/shuo/test/eth_test/dataset/random_5_sampling_ascii_pcd/gazebo/Hokuyo_22.pcd\n",
      "/home/shuo/test/eth_test/dataset/random_5_sampling_ascii_pcd/gazebo/Hokuyo_23.pcd\n",
      "/home/shuo/test/eth_test/dataset/random_5_sampling_ascii_pcd/gazebo/Hokuyo_24.pcd\n",
      "/home/shuo/test/eth_test/dataset/random_5_sampling_ascii_pcd/gazebo/Hokuyo_25.pcd\n",
      "/home/shuo/test/eth_test/dataset/random_5_sampling_ascii_pcd/gazebo/Hokuyo_26.pcd\n",
      "/home/shuo/test/eth_test/dataset/random_5_sampling_ascii_pcd/gazebo/Hokuyo_27.pcd\n",
      "/home/shuo/test/eth_test/dataset/random_5_sampling_ascii_pcd/gazebo/Hokuyo_28.pcd\n",
      "/home/shuo/test/eth_test/dataset/random_5_sampling_ascii_pcd/gazebo/Hokuyo_29.pcd\n",
      "/home/shuo/test/eth_test/dataset/random_5_sampling_ascii_pcd/gazebo/Hokuyo_30.pcd\n"
     ]
    }
   ],
   "source": [
    "import numpy as np\n",
    "import open3d as o3d\n",
    "import glob\n",
    "\n",
    "APARTMENT_PATH = \"/media/shuo/T7/ETH/apartment/apartment_local/pcd/\"\n",
    "GAZEBO_PATH = \"/media/shuo/T7/ETH/gazebo_winter/pcd/\"\n",
    "random_ratio = 0.05\n",
    "p_res = \"/home/shuo/test/eth_test/dataset/random_5_sampling_ascii_pcd/gazebo/\"\n",
    "\n",
    "for file in glob.glob(GAZEBO_PATH + \"*.pcd\"):\n",
    "    pc = o3d.io.read_point_cloud(file)\n",
    "    random_sample_pc = pc.random_down_sample(random_ratio)\n",
    "    idx = file.rindex('/')\n",
    "    f_name = p_res + file[idx+1:]\n",
    "    print(f_name)\n",
    "    # o3d.io.write_point_cloud(f_name, random_sample_pc, write_ascii=True)"
   ]
  }
 ],
 "metadata": {
  "kernelspec": {
   "display_name": "Python 3.9.13 ('open3d_latest')",
   "language": "python",
   "name": "python3"
  },
  "language_info": {
   "codemirror_mode": {
    "name": "ipython",
    "version": 3
   },
   "file_extension": ".py",
   "mimetype": "text/x-python",
   "name": "python",
   "nbconvert_exporter": "python",
   "pygments_lexer": "ipython3",
   "version": "3.9.13"
  },
  "orig_nbformat": 4,
  "vscode": {
   "interpreter": {
    "hash": "a60d5875bbb02c6c106b4199ef10c645f6473fd9da6fbc9a404747d7ef343ccc"
   }
  }
 },
 "nbformat": 4,
 "nbformat_minor": 2
}
